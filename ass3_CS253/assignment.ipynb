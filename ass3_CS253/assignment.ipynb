{
  "cells": [
    {
      "cell_type": "markdown",
      "metadata": {
        "id": "Irp6f7_2crfu"
      },
      "source": [
        "### Data pre-processing\n",
        "The first step in every machine learning algorithm is to process the raw data in some meaningful representations. We will be using the [Bag-of-Words](https://towardsdatascience.com/a-simple-explanation-of-the-bag-of-words-model-b88fc4f4971) representation to process the text. It comprises of following steps:\n",
        "\n",
        "- Process emails line-by-line to extract all the words.\n",
        "- Replace extracted words by their stem (root) word. This is known as stemming and lematization.\n",
        "- Remove stop words like and, or, is, am, and so on.\n",
        "- Assign a unique index to each word. This forms the vocabulary.\n",
        "- Represent each email as a binary vector of length equal to the size of the vocabulary such that the $i^{th}$ element of the vector is 1 iff the $i^th$ word is present in the email.\n",
        "\n",
        "Here we provide you with the function signature along with the expected functionality. You are expected to complete them accordingly. "
      ]
    },
    {
      "cell_type": "markdown",
      "metadata": {
        "id": "BKCrcukdE8Bb"
      },
      "source": [
        "# Assignment: Classification\n",
        "\n",
        "Classification refers to categorizing the given data into classes. For example,\n",
        "- Given an image of hand-written character, identifying the character (multi-class classification)\n",
        "- Given an image, annotating it with all the objects present in the image (multi-label classification)\n",
        "- Classifying an email as spam or non-spam (binary classification)\n",
        "- Classifying a tumor as benign or malignant and so on\n",
        "\n",
        "In this assignment, we will be building a classifier to classify emails as spam or non-spam. We will be using the Kaggle dataset [Spam or Not Spam Dataset](https://www.kaggle.com/datasets/ozlerhakan/spam-or-not-spam-dataset?resource=download) for this task. \n",
        "\n",
        "**Note**: You cannot load any libraries other than the mentioned ones.\n",
        "\n",
        "\n"
      ]
    },
    {
      "cell_type": "code",
      "execution_count": 17,
      "metadata": {
        "id": "wIlTOyyPn-mN"
      },
      "outputs": [],
      "source": [
        "import numpy as np\n",
        "from nltk.stem import PorterStemmer\n",
        "from nltk.corpus import stopwords\n",
        "file_name='spam_or_not_spam.csv'\n",
        "# takes an email as an argument\n",
        "# read email line-by-line and extract all the words\n",
        "# return list of extracted words\n",
        "def read_email(email):\n",
        "  words=email.split()\n",
        "  return words\n",
        "  \n",
        "# takes a list of words as an argument\n",
        "# replace each word by their stem word\n",
        "# return list of stem words\n",
        "def stemming(list_of_words):\n",
        "  ps = PorterStemmer()\n",
        "  stem_words = []\n",
        "  for w in list_of_words:\n",
        "    stem_words.append(ps.stem(w.lower()))\n",
        "  return stem_words\n",
        "\n",
        "# takes a list of stem-words as an argument\n",
        "# remove stop words\n",
        "# return list of stem words after removing stop words\n",
        "def remove_stop_words(stem_words):\n",
        "  s_words = set(stopwords.words('english'))\n",
        "  stem_no_stop_words = []\n",
        "  for w in stem_words:\n",
        "    if w not in s_words:\n",
        "      stem_no_stop_words.append(w)\n",
        "  return stem_no_stop_words\n",
        "\n",
        "# takes a list of stem-words as an argument\n",
        "# add new words to the vocabulary and assign a unique index to them\n",
        "# returns new vocabulary\n",
        "def build_vocabulary(stem_no_stop_words,vocabulary):\n",
        "  for w in stem_no_stop_words:\n",
        "    if w not in vocabulary:\n",
        "      vocabulary[w] = len(vocabulary)\n",
        "  return vocabulary\n",
        "\n",
        "# takes a list of stem-words and vocabulary as an argument\n",
        "# returns bow representation\n",
        "def get_bow(stem_no_stop_words,vocabulary):\n",
        "  email_bow = np.zeros(len(vocabulary))\n",
        "  for w in stem_no_stop_words:\n",
        "    email_bow[vocabulary[w]] = 1\n",
        "  return email_bow\n",
        "\n",
        "# read the entire dataset\n",
        "# convert emails to bow and maintain their labels\n",
        "# call function text_to_bow()\n",
        "def read_data(file_name):\n",
        "  results = []\n",
        "  with open(file_name, 'r') as f:\n",
        "    count=0\n",
        "    for line in f:\n",
        "        if count==0:\n",
        "            count=count+1\n",
        "            continue\n",
        "        words = line.split(',')\n",
        "        results.append([words[0],int(words[1])])\n",
        "  list_of_stem_words = []\n",
        "  vocabulary={}\n",
        "  for email in results:\n",
        "    words=read_email(email[0])\n",
        "    no_stop_words=remove_stop_words(words)\n",
        "    stem_words=stemming(no_stop_words)\n",
        "    list_of_stem_words.append(stem_words)\n",
        "    vocabulary=build_vocabulary(stem_words,vocabulary)\n",
        "  i=0\n",
        "  data=[]\n",
        "  for email in results:\n",
        "    bow=get_bow(list_of_stem_words[i],vocabulary)\n",
        "    data.append([bow,email[1]])\n",
        "    i=i+1\n",
        "  return data,vocabulary\n",
        "data,vocabulary=read_data(file_name)"
      ]
    },
    {
      "cell_type": "markdown",
      "metadata": {
        "id": "d0cDiGt6nkPY"
      },
      "source": [
        "### Data Visualization\n",
        "Let's understand the data distribution\n",
        "- Visualize the frequency of word-occurence in all the emails(spam + non-spam)\n",
        "- Visualize the frequency of word-occurence for spam and non-spam emails separately"
      ]
    },
    {
      "cell_type": "code",
      "execution_count": 18,
      "metadata": {
        "id": "4vJLcTxDLZsh"
      },
      "outputs": [
        {
          "name": "stdout",
          "output_type": "stream",
          "text": [
            "Top 10 words in spam emails:\n",
            "number\n",
            "url\n",
            "pleas\n",
            "click\n",
            "mail\n",
            "list\n",
            "remov\n",
            "email\n",
            "free\n",
            "receiv\n",
            "inform\n",
            "Top 10 words in non-spam emails:\n",
            "url\n",
            "number\n",
            "use\n",
            "list\n",
            "get\n",
            "mail\n",
            "date\n",
            "wrote\n",
            "one\n",
            "like\n",
            "time\n",
            "Frequency of words in all emails:\n"
          ]
        },
        {
          "data": {
            "image/png": "[encoded data removed]",
            "text/plain": [
              "<Figure size 432x288 with 1 Axes>"
            ]
          },
          "metadata": {
            "needs_background": "light"
          },
          "output_type": "display_data"
        },
        {
          "name": "stdout",
          "output_type": "stream",
          "text": [
            "Frequency of words in spam emails:\n"
          ]
        },
        {
          "data": {
            "image/png": "[encoded data removed]",
            "text/plain": [
              "<Figure size 432x288 with 1 Axes>"
            ]
          },
          "metadata": {
            "needs_background": "light"
          },
          "output_type": "display_data"
        },
        {
          "name": "stdout",
          "output_type": "stream",
          "text": [
            "Frequency of words in non-spam emails:\n"
          ]
        },
        {
          "data": {
            "image/png": "[encoded data removed]",
            "text/plain": [
              "<Figure size 432x288 with 1 Axes>"
            ]
          },
          "metadata": {
            "needs_background": "light"
          },
          "output_type": "display_data"
        },
        {
          "name": "stdout",
          "output_type": "stream",
          "text": [
            "Frequency of top 50 words of non-spam emails in spam and non-spam:\n"
          ]
        },
        {
          "data": {
            "image/png": "[encoded data removed]",
            "text/plain": [
              "<Figure size 432x288 with 1 Axes>"
            ]
          },
          "metadata": {
            "needs_background": "light"
          },
          "output_type": "display_data"
        },
        {
          "name": "stdout",
          "output_type": "stream",
          "text": [
            "Frequency of top 50 words of spam emails in spam and non-spam:\n"
          ]
        },
        {
          "data": {
            "image/png": "[encoded data removed]",
            "text/plain": [
              "<Figure size 432x288 with 1 Axes>"
            ]
          },
          "metadata": {
            "needs_background": "light"
          },
          "output_type": "display_data"
        }
      ],
      "source": [
        "import matplotlib.pyplot as plt\n",
        "# visuallze data distribution\n",
        "def data_vis(data,vocabulary):\n",
        "  freq_normal={}\n",
        "  freq_spam={}\n",
        "  freq_non_spam={}\n",
        "  for i in range(0,len(data[0][0])):\n",
        "    freq_normal[i]=0\n",
        "    freq_spam[i]=0\n",
        "    freq_non_spam[i]=0\n",
        "  for email in data:\n",
        "    i=0\n",
        "    for word in email[0]:\n",
        "      freq_normal[i]=freq_normal[i]+int(word)\n",
        "      if email[1]==1:\n",
        "        freq_spam[i]=freq_spam[i]+int(word)\n",
        "      else:\n",
        "        freq_non_spam[i]=freq_non_spam[i]+int(word)\n",
        "      if freq_normal[i]!=freq_non_spam[i]+freq_spam[i]:\n",
        "        print(\"error\")\n",
        "      i=i+1\n",
        "  copy_spam={}\n",
        "  for i in range(0,freq_spam.__len__()):\n",
        "    copy_spam[list(vocabulary)[i]]=freq_spam[i]\n",
        "  copy_non={}\n",
        "  for i in range(0,freq_spam.__len__()):\n",
        "    copy_non[list(vocabulary)[i]]=freq_non_spam[i]\n",
        "  sort_orders_spam = sorted(copy_spam.items(), key=lambda x: x[1], reverse=True)\n",
        "  sort_orders_non = sorted(copy_non.items(), key=lambda x: x[1], reverse=True)\n",
        "  print(\"Top 10 words in spam emails:\")\n",
        "  for i in range(0,11):\n",
        "    print(sort_orders_spam[i][0])\n",
        "  print(\"Top 10 words in non-spam emails:\")\n",
        "  for i in range(0,11):\n",
        "    print(sort_orders_non[i][0])\n",
        "\n",
        "  # plot the frequency of each word\n",
        "  values = [] \n",
        "  keys = []\n",
        "  print(\"Frequency of words in all emails:\")\n",
        "  for key in freq_normal.keys():\n",
        "    keys.append(key)\n",
        "    values.append(freq_normal[key])\n",
        "  plt.plot(keys, values)\n",
        "  bottom,top=plt.ylim()\n",
        "  plt.xlabel(\"word\")\n",
        "  plt.ylabel(\"frequency\")\n",
        "  plt.title(\"Normal\")\n",
        "  plt.show()\n",
        "\n",
        "  # plot the frequency of each word in spam emails\n",
        "  values = [] \n",
        "  keys = []\n",
        "  print(\"Frequency of words in spam emails:\")\n",
        "  for key in freq_spam.keys():\n",
        "    keys.append(key)\n",
        "    values.append(freq_spam[key])\n",
        "  plt.plot(keys, values)\n",
        "  plt.ylim(0, top)\n",
        "  plt.xlabel(\"word\")\n",
        "  plt.ylabel(\"frequency\")\n",
        "  plt.title(\"Spam\")\n",
        "  plt.show()\n",
        "\n",
        "  # plot the frequency of each word in non-spam emails\n",
        "  values = [] \n",
        "  keys = []\n",
        "  print(\"Frequency of words in non-spam emails:\")\n",
        "  for key in freq_non_spam.keys():\n",
        "    keys.append(key)\n",
        "    values.append(freq_non_spam[key])\n",
        "  plt.plot(keys, values)\n",
        "  plt.ylim(0, top)\n",
        "  plt.xlabel(\"word\")\n",
        "  plt.ylabel(\"frequency\")\n",
        "  plt.title(\"Non-Spam\")\n",
        "  plt.show()\n",
        "\n",
        "  # plot the frequency of top 50 words in non spam emails for both spam and non spam\n",
        "  print(\"Frequency of top 50 words of non-spam emails in spam and non-spam:\")\n",
        "  x1=[]\n",
        "  y1=[]\n",
        "  for i in range(0,50):\n",
        "    x1.append(sort_orders_spam[i][0])\n",
        "    y1.append(sort_orders_spam[i][1])\n",
        "  x2=[]\n",
        "  y2=[]\n",
        "  for i in range(0,50):\n",
        "    x2.append(sort_orders_spam[i][0])\n",
        "    y2.append(copy_non[sort_orders_spam[i][0]])\n",
        "  plt.bar(x2,y2,color='b')\n",
        "  plt.bar(x1,y1,color='r')\n",
        "  plt.legend(['Spam','Non-Spam'])\n",
        "  frame1=plt.gca()\n",
        "  frame1.axes.get_xaxis().set_visible(False)\n",
        "  plt.xlabel(\"word\")\n",
        "  plt.ylabel(\"frequency\")\n",
        "  plt.title(\"Non-spam top 50\")\n",
        "  plt.show()\n",
        "\n",
        "  # plot the frequency of top 50 words in spam emails for both spam and non spam\n",
        "  print(\"Frequency of top 50 words of spam emails in spam and non-spam:\")\n",
        "  x1=[]\n",
        "  y1=[]\n",
        "  for i in range(0,50):\n",
        "    x1.append(sort_orders_non[i][0])\n",
        "    y1.append(sort_orders_non[i][1])\n",
        "  x2=[]\n",
        "  y2=[]\n",
        "  for i in range(0,50):\n",
        "    x2.append(sort_orders_non[i][0])\n",
        "    y2.append(copy_spam[sort_orders_non[i][0]])\n",
        "  plt.bar(x1,y1,color='r')\n",
        "  plt.bar(x2,y2,color='b')\n",
        "  frame1=plt.gca()\n",
        "  frame1.axes.get_xaxis().set_visible(False)\n",
        "  plt.xlabel(\"word\")\n",
        "  plt.ylabel(\"frequency\")\n",
        "  plt.legend(['Spam','Non-Spam',])\n",
        "  plt.title(\"Spam top 50\")\n",
        "  plt.show()\n",
        "data_vis(data,vocabulary)"
      ]
    },
    {
      "cell_type": "markdown",
      "metadata": {
        "id": "LPq-3nTzGcdX"
      },
      "source": [
        "### Learn a Classifier\n",
        "Split the dataset randomly in the ratio 80:20 as the training and test dataset. Use only training dataset to learn the classifier. No test data should be used during training. Test data will only be used during evaluation.\n",
        "\n",
        "Now let us try to use ML algorithms to classify emails as spam or non-spam. You are supposed to implement [SVM](https://scikit-learn.org/stable/modules/svm.html) and [K-Nearest Neighbour](https://scikit-learn.org/stable/modules/generated/sklearn.neighbors.KNeighborsClassifier.html) algorithm available in scikit-learn using the same training dataset for both."
      ]
    },
    {
      "cell_type": "code",
      "execution_count": 19,
      "metadata": {
        "id": "IMpuaPCKHxwh"
      },
      "outputs": [],
      "source": [
        "from sklearn.neighbors import KNeighborsClassifier\n",
        "from sklearn import svm\n",
        "\n",
        "# split dataset\n",
        "def split(data):\n",
        "  np.random.shuffle(data)\n",
        "  train_data=[]\n",
        "  test_data=[]\n",
        "  for i in range(0,len(data)):\n",
        "    if i<0.8*len(data):\n",
        "      train_data.append(data[i])\n",
        "    else:\n",
        "      test_data.append(data[i])\n",
        "  return train_data, test_data\n",
        "\n",
        "# learn a SVM model\n",
        "# use the model to make prediction\n",
        "# return the model predictions on train and test dataset\n",
        "def svm_classifier(train_data,test_data):\n",
        "  x = []\n",
        "  y = []\n",
        "  for email in train_data:\n",
        "    x.append(email[0])\n",
        "    y.append(email[1])\n",
        "  x_test = []\n",
        "  for email in test_data:\n",
        "    x_test.append(email[0])\n",
        "  clf = svm.SVC()\n",
        "  clf.fit(x, y)\n",
        "  svm_tra_predictions=clf.predict(x)\n",
        "  svm_test_predictions=clf.predict(x_test)\n",
        "  predict_labels=svm_tra_predictions,svm_test_predictions\n",
        "  return predict_labels\n",
        "\n",
        "# implement k-NN algorithm\n",
        "# use the model to make prediction\n",
        "# return the model predictions on train and test dataset\n",
        "def knn_classifier(train_data,test_data):\n",
        "  x = []\n",
        "  y = []\n",
        "  for email in train_data:\n",
        "    x.append(email[0])\n",
        "    y.append(email[1])\n",
        "  x_test = []\n",
        "  for email in test_data:\n",
        "    x_test.append(email[0])\n",
        "  clf = KNeighborsClassifier(n_neighbors=5)\n",
        "  clf.fit(x, y)\n",
        "  knn_tra_predictions=clf.predict(x)\n",
        "  knn_test_predictions=clf.predict(x_test)\n",
        "  predict_labels=knn_tra_predictions,knn_test_predictions\n",
        "  return predict_labels\n",
        "\n",
        "train_data, test_data = split(data)\n",
        "svm_train_predictions, svm_test_predictions = svm_classifier(train_data, test_data)\n",
        "knn_train_predictions, knn_test_predictions = knn_classifier(train_data, test_data)"
      ]
    },
    {
      "cell_type": "markdown",
      "metadata": {
        "id": "SlCwYvluHqQz"
      },
      "source": [
        "### Model Evaluation\n",
        "Compare the SVM and k-NN model using metrics\n",
        "- Accuracy\n",
        "- [AUC score](https://scikit-learn.org/stable/modules/generated/sklearn.metrics.auc.html)\n"
      ]
    },
    {
      "cell_type": "code",
      "execution_count": 20,
      "metadata": {
        "id": "X3KmcTpqKbGI"
      },
      "outputs": [
        {
          "name": "stdout",
          "output_type": "stream",
          "text": [
            "SVM auc score on train data: 0.9783163265306123\n",
            "SVM auc score on test data: 0.9444444444444444\n",
            "KNN auc score on train data: 0.8955911049678836\n",
            "KNN auc score on test data: 0.8301716350496838\n",
            "SVM accuracy on train data: 0.9929166666666667\n",
            "SVM accuracy on test data: 0.98\n",
            "KNN accuracy on train data: 0.8716666666666667\n",
            "KNN accuracy on test data: 0.7866666666666666\n"
          ]
        }
      ],
      "source": [
        "from sklearn import metrics\n",
        "\n",
        "# compute accuracy \n",
        "def compute_accuracy(true_labels, predicted_labels):\n",
        "  correct = 0\n",
        "  for i in range(0,len(true_labels)):\n",
        "    if true_labels[i]==predicted_labels[i]:\n",
        "      correct=correct+1\n",
        "  acc=correct/len(true_labels)\n",
        "  return acc\n",
        "\n",
        "#compute AUC score \n",
        "def compute_auc(true_labels, predicted_labels):\n",
        "  auc=metrics.roc_auc_score(true_labels, predicted_labels)\n",
        "  return auc\n",
        "\n",
        "true_label_test=[]\n",
        "for email in test_data:\n",
        "  true_label_test.append(email[1])\n",
        "true_label_train=[]\n",
        "for email in train_data:\n",
        "  true_label_train.append(email[1])\n",
        "print(\"SVM auc score on train data:\",compute_auc(true_label_train, svm_train_predictions))\n",
        "print(\"SVM auc score on test data:\",compute_auc(true_label_test, svm_test_predictions))\n",
        "print(\"KNN auc score on train data:\",compute_auc(true_label_train, knn_train_predictions))\n",
        "print(\"KNN auc score on test data:\",compute_auc(true_label_test, knn_test_predictions))\n",
        "print(\"SVM accuracy on train data:\",compute_accuracy(true_label_train,svm_train_predictions))\n",
        "print(\"SVM accuracy on test data:\",compute_accuracy(true_label_test,svm_test_predictions))\n",
        "print(\"KNN accuracy on train data:\",compute_accuracy(true_label_train,knn_train_predictions))\n",
        "print(\"KNN accuracy on test data:\",compute_accuracy(true_label_test,knn_test_predictions))"
      ]
    }
  ],
  "metadata": {
    "colab": {
      "collapsed_sections": [],
      "name": "python-assignment.ipynb",
      "provenance": []
    },
    "kernelspec": {
      "display_name": "Python 3",
      "name": "python3"
    },
    "language_info": {
      "codemirror_mode": {
        "name": "ipython",
        "version": 3
      },
      "file_extension": ".py",
      "mimetype": "text/x-python",
      "name": "python",
      "nbconvert_exporter": "python",
      "pygments_lexer": "ipython3",
      "version": "3.8.10"
    }
  },
  "nbformat": 4,
  "nbformat_minor": 0
}
